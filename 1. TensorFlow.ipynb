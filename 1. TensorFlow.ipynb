{
 "cells": [
  {
   "cell_type": "code",
   "execution_count": 12,
   "id": "f20f7fa0-69a9-45a1-b1fd-3e00c72c33d9",
   "metadata": {},
   "outputs": [
    {
     "name": "stdout",
     "output_type": "stream",
     "text": [
      "Scalar: tf.Tensor(3.0, shape=(), dtype=float32)\n",
      "Shape: ()\n",
      "\n",
      "Vector: tf.Tensor([1. 2. 3.], shape=(3,), dtype=float32)\n",
      "Shape: (3,)\n"
     ]
    }
   ],
   "source": [
    "#Scalar Tensor (0D)\n",
    "import tensorflow as tf\n",
    "\n",
    "scalar = tf.constant(3.0)  # A scalar tensor with value 3.0\n",
    "print(\"Scalar:\", scalar)\n",
    "print(\"Shape:\", scalar.shape)\n",
    "\n",
    "#Vector Tensor (1D)\n",
    "vector = tf.constant([1.0, 2.0, 3.0])  # A 1D tensor\n",
    "print(\"\\nVector:\", vector)\n",
    "print(\"Shape:\", vector.shape)\n"
   ]
  },
  {
   "cell_type": "code",
   "execution_count": 13,
   "id": "3025625e-5f36-42fd-a59a-d04f9bc0d119",
   "metadata": {},
   "outputs": [
    {
     "name": "stdout",
     "output_type": "stream",
     "text": [
      "\n",
      "Matrix:\n",
      " tf.Tensor(\n",
      "[[1 2 3]\n",
      " [4 5 6]], shape=(2, 3), dtype=int32)\n",
      "Shape: (2, 3)\n",
      "\n",
      "3D Tensor:\n",
      " tf.Tensor(\n",
      "[[[1 2]\n",
      "  [3 4]]\n",
      "\n",
      " [[5 6]\n",
      "  [7 8]]], shape=(2, 2, 2), dtype=int32)\n",
      "Shape: (2, 2, 2)\n"
     ]
    }
   ],
   "source": [
    "#Matrix Tensor (2D)\n",
    "matrix = tf.constant([[1, 2, 3], [4, 5, 6]])  # A 2D tensor\n",
    "print(\"\\nMatrix:\\n\", matrix)\n",
    "print(\"Shape:\", matrix.shape)\n",
    "\n",
    "# Higher-Dimensional Tensor (3D and beyond)\n",
    "tensor_3d = tf.constant([[[1, 2], [3, 4]], [[5, 6], [7, 8]]])  # A 3D tensor\n",
    "print(\"\\n3D Tensor:\\n\", tensor_3d)\n",
    "print(\"Shape:\", tensor_3d.shape)\n"
   ]
  },
  {
   "cell_type": "code",
   "execution_count": 15,
   "id": "a40199bc-44a2-402e-afec-4c255396f1f5",
   "metadata": {},
   "outputs": [
    {
     "name": "stdout",
     "output_type": "stream",
     "text": [
      "Matrix A:\n",
      " tf.Tensor(\n",
      "[[1 2 3]\n",
      " [4 5 6]], shape=(2, 3), dtype=int32)\n",
      "\n",
      "Matrix B:\n",
      " tf.Tensor(\n",
      "[[ 7  8  9]\n",
      " [10 11 12]], shape=(2, 3), dtype=int32)\n",
      "\n",
      "Element-wise Addition:\n",
      " tf.Tensor(\n",
      "[[ 8 10 12]\n",
      " [14 16 18]], shape=(2, 3), dtype=int32)\n",
      "\n",
      "Element-wise Subtraction:\n",
      " tf.Tensor(\n",
      "[[-6 -6 -6]\n",
      " [-6 -6 -6]], shape=(2, 3), dtype=int32)\n"
     ]
    }
   ],
   "source": [
    "#import tensorflow as tf\n",
    "\n",
    "# Create two 2D tensors\n",
    "A = tf.constant([[1, 2, 3], [4, 5, 6]])  # 2x3 matrix\n",
    "B = tf.constant([[7, 8, 9], [10, 11, 12]])  # 2x3 matrix\n",
    "print(\"Matrix A:\\n\", A)\n",
    "print(\"\\nMatrix B:\\n\", B)\n",
    "\n",
    "#Addition\n",
    "C = A + B\n",
    "print(\"\\nElement-wise Addition:\\n\", C)\n",
    "\n",
    "#Subtraction\n",
    "D = A - B\n",
    "print(\"\\nElement-wise Subtraction:\\n\", D)\n"
   ]
  },
  {
   "cell_type": "code",
   "execution_count": 16,
   "id": "e09212ca-3ad3-40a9-a6a0-b54782ee6962",
   "metadata": {},
   "outputs": [
    {
     "name": "stdout",
     "output_type": "stream",
     "text": [
      "\n",
      "Element-wise Multiplication:\n",
      " tf.Tensor(\n",
      "[[ 7 16 27]\n",
      " [40 55 72]], shape=(2, 3), dtype=int32)\n",
      "\n",
      "Element-wise Division:\n",
      " tf.Tensor(\n",
      "[[0.14285714 0.25       0.33333333]\n",
      " [0.4        0.45454545 0.5       ]], shape=(2, 3), dtype=float64)\n",
      "\n",
      "Transpose of A:\n",
      " tf.Tensor(\n",
      "[[1 4]\n",
      " [2 5]\n",
      " [3 6]], shape=(3, 2), dtype=int32)\n"
     ]
    }
   ],
   "source": [
    "\n",
    "#Multiplication\n",
    "E = A * B  # Element-wise multiplication (Hadamard product)\n",
    "print(\"\\nElement-wise Multiplication:\\n\", E)\n",
    " \n",
    "#Division\n",
    "F = A / B  # Element-wise division\n",
    "print(\"\\nElement-wise Division:\\n\", F)\n",
    "\n",
    "#Transpose of a Matrix\n",
    "A_transposed = tf.transpose(A)\n",
    "print(\"\\nTranspose of A:\\n\", A_transposed)\n"
   ]
  }
 ],
 "metadata": {
  "kernelspec": {
   "display_name": "Python 3 (ipykernel)",
   "language": "python",
   "name": "python3"
  },
  "language_info": {
   "codemirror_mode": {
    "name": "ipython",
    "version": 3
   },
   "file_extension": ".py",
   "mimetype": "text/x-python",
   "name": "python",
   "nbconvert_exporter": "python",
   "pygments_lexer": "ipython3",
   "version": "3.11.7"
  }
 },
 "nbformat": 4,
 "nbformat_minor": 5
}
